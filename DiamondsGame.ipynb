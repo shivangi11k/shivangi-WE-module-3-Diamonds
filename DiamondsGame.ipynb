{
  "nbformat": 4,
  "nbformat_minor": 0,
  "metadata": {
    "colab": {
      "provenance": []
    },
    "kernelspec": {
      "name": "python3",
      "display_name": "Python 3"
    },
    "language_info": {
      "name": "python"
    }
  },
  "cells": [
    {
      "cell_type": "code",
      "source": [
        "import random\n",
        "\n",
        "# Function to initialize the deck of cards\n",
        "def initialize_deck():\n",
        "    suits = ['Hearts', 'Diamonds', 'Clubs', 'Spades']\n",
        "    ranks = ['2', '3', '4', '5', '6', '7', '8', '9', 'T', 'J', 'Q', 'K', 'A']\n",
        "    deck = [{'rank': rank, 'suit': suit} for rank in ranks for suit in suits if rank != 'A' or suit != 'Diamonds']\n",
        "    random.shuffle(deck)\n",
        "    return deck\n",
        "\n",
        "# Function to simulate the auction process\n",
        "def simulate_auction(deck):\n",
        "    player_scores = {'You': 0, 'Me': 0}\n",
        "    remaining_diamonds = [card for card in deck if card['suit'] == 'Diamonds']\n",
        "\n",
        "    # Define point values for each rank\n",
        "    rank_values = {'2': 2, '3': 3, '4': 4, '5': 5, '6': 6, '7': 7, '8': 8, '9': 9, 'T': 10, 'J': 11, 'Q': 12, 'K': 13, 'A': 14}\n",
        "\n",
        "    for diamond in remaining_diamonds:\n",
        "        print(\"\\nAuction for the {} of Diamonds\".format(diamond['rank']))\n",
        "        your_bid = input(\"Your bid (enter the rank of the card from your suit): \")\n",
        "        my_bid = random.choice(['2', '3', '4', '5', '6', '7', '8', '9', 'T', 'J', 'Q', 'K'])  # Random bid for opponent\n",
        "\n",
        "        your_card = next((card for card in deck if card['rank'] == your_bid), None)\n",
        "        my_card = next((card for card in deck if card['rank'] == my_bid), None)\n",
        "\n",
        "        print(\"Your bid: {} of {}\".format(your_card['rank'], your_card['suit']))\n",
        "        print(\"My bid: {} of Hearts\".format(my_card['rank']))  # Assuming opponent always bids from Hearts\n",
        "\n",
        "        your_rank_value = rank_values[your_card['rank']]\n",
        "        my_rank_value = rank_values[my_card['rank']]\n",
        "\n",
        "        if your_rank_value > my_rank_value:\n",
        "            print(\"You win the auction!\")\n",
        "            player_scores['You'] += int(diamond['rank'])\n",
        "        elif your_rank_value < my_rank_value:\n",
        "            print(\"I win the auction!\")\n",
        "            player_scores['Me'] += int(diamond['rank'])\n",
        "        else:\n",
        "            print(\"It's a tie! Points are divided equally.\")\n",
        "            player_scores['You'] += int(diamond['rank']) / 2\n",
        "            player_scores['Me'] += int(diamond['rank']) / 2\n",
        "\n",
        "    return player_scores\n",
        "\n",
        "# Function to determine the winner based on scores\n",
        "def determine_winner(scores):\n",
        "    max_score = max(scores.values())\n",
        "    winners = [player for player, score in scores.items() if score == max_score]\n",
        "    if len(winners) == 1:\n",
        "        print(\"\\n{} wins with {} points!\".format(winners[0], max_score))\n",
        "    else:\n",
        "        print(\"\\nIt's a tie between {} with {} points each!\".format(', '.join(winners), max_score))\n",
        "\n",
        "# Main function\n",
        "def main():\n",
        "    deck = initialize_deck()\n",
        "    player_scores = simulate_auction(deck)\n",
        "    determine_winner(player_scores)\n",
        "\n",
        "# Run the game\n",
        "if __name__ == \"__main__\":\n",
        "    main()"
      ],
      "metadata": {
        "colab": {
          "base_uri": "https://localhost:8080/",
          "height": 425
        },
        "id": "r59menegedTq",
        "outputId": "60ab0992-b0b5-4154-bab2-6d60930f5e87"
      },
      "execution_count": 4,
      "outputs": [
        {
          "output_type": "stream",
          "name": "stdout",
          "text": [
            "\n",
            "Auction for the J of Diamonds\n",
            "Your bid (enter the rank of the card from your suit): K\n",
            "Your bid: K of Diamonds\n",
            "My bid: K of Hearts\n",
            "It's a tie! Points are divided equally.\n"
          ]
        },
        {
          "output_type": "error",
          "ename": "ValueError",
          "evalue": "invalid literal for int() with base 10: 'J'",
          "traceback": [
            "\u001b[0;31m---------------------------------------------------------------------------\u001b[0m",
            "\u001b[0;31mValueError\u001b[0m                                Traceback (most recent call last)",
            "\u001b[0;32m<ipython-input-4-6691267eb426>\u001b[0m in \u001b[0;36m<cell line: 62>\u001b[0;34m()\u001b[0m\n\u001b[1;32m     61\u001b[0m \u001b[0;31m# Run the game\u001b[0m\u001b[0;34m\u001b[0m\u001b[0;34m\u001b[0m\u001b[0m\n\u001b[1;32m     62\u001b[0m \u001b[0;32mif\u001b[0m \u001b[0m__name__\u001b[0m \u001b[0;34m==\u001b[0m \u001b[0;34m\"__main__\"\u001b[0m\u001b[0;34m:\u001b[0m\u001b[0;34m\u001b[0m\u001b[0;34m\u001b[0m\u001b[0m\n\u001b[0;32m---> 63\u001b[0;31m     \u001b[0mmain\u001b[0m\u001b[0;34m(\u001b[0m\u001b[0;34m)\u001b[0m\u001b[0;34m\u001b[0m\u001b[0;34m\u001b[0m\u001b[0m\n\u001b[0m",
            "\u001b[0;32m<ipython-input-4-6691267eb426>\u001b[0m in \u001b[0;36mmain\u001b[0;34m()\u001b[0m\n\u001b[1;32m     56\u001b[0m \u001b[0;32mdef\u001b[0m \u001b[0mmain\u001b[0m\u001b[0;34m(\u001b[0m\u001b[0;34m)\u001b[0m\u001b[0;34m:\u001b[0m\u001b[0;34m\u001b[0m\u001b[0;34m\u001b[0m\u001b[0m\n\u001b[1;32m     57\u001b[0m     \u001b[0mdeck\u001b[0m \u001b[0;34m=\u001b[0m \u001b[0minitialize_deck\u001b[0m\u001b[0;34m(\u001b[0m\u001b[0;34m)\u001b[0m\u001b[0;34m\u001b[0m\u001b[0;34m\u001b[0m\u001b[0m\n\u001b[0;32m---> 58\u001b[0;31m     \u001b[0mplayer_scores\u001b[0m \u001b[0;34m=\u001b[0m \u001b[0msimulate_auction\u001b[0m\u001b[0;34m(\u001b[0m\u001b[0mdeck\u001b[0m\u001b[0;34m)\u001b[0m\u001b[0;34m\u001b[0m\u001b[0;34m\u001b[0m\u001b[0m\n\u001b[0m\u001b[1;32m     59\u001b[0m     \u001b[0mdetermine_winner\u001b[0m\u001b[0;34m(\u001b[0m\u001b[0mplayer_scores\u001b[0m\u001b[0;34m)\u001b[0m\u001b[0;34m\u001b[0m\u001b[0;34m\u001b[0m\u001b[0m\n\u001b[1;32m     60\u001b[0m \u001b[0;34m\u001b[0m\u001b[0m\n",
            "\u001b[0;32m<ipython-input-4-6691267eb426>\u001b[0m in \u001b[0;36msimulate_auction\u001b[0;34m(deck)\u001b[0m\n\u001b[1;32m     39\u001b[0m         \u001b[0;32melse\u001b[0m\u001b[0;34m:\u001b[0m\u001b[0;34m\u001b[0m\u001b[0;34m\u001b[0m\u001b[0m\n\u001b[1;32m     40\u001b[0m             \u001b[0mprint\u001b[0m\u001b[0;34m(\u001b[0m\u001b[0;34m\"It's a tie! Points are divided equally.\"\u001b[0m\u001b[0;34m)\u001b[0m\u001b[0;34m\u001b[0m\u001b[0;34m\u001b[0m\u001b[0m\n\u001b[0;32m---> 41\u001b[0;31m             \u001b[0mplayer_scores\u001b[0m\u001b[0;34m[\u001b[0m\u001b[0;34m'You'\u001b[0m\u001b[0;34m]\u001b[0m \u001b[0;34m+=\u001b[0m \u001b[0mint\u001b[0m\u001b[0;34m(\u001b[0m\u001b[0mdiamond\u001b[0m\u001b[0;34m[\u001b[0m\u001b[0;34m'rank'\u001b[0m\u001b[0;34m]\u001b[0m\u001b[0;34m)\u001b[0m \u001b[0;34m/\u001b[0m \u001b[0;36m2\u001b[0m\u001b[0;34m\u001b[0m\u001b[0;34m\u001b[0m\u001b[0m\n\u001b[0m\u001b[1;32m     42\u001b[0m             \u001b[0mplayer_scores\u001b[0m\u001b[0;34m[\u001b[0m\u001b[0;34m'Me'\u001b[0m\u001b[0;34m]\u001b[0m \u001b[0;34m+=\u001b[0m \u001b[0mint\u001b[0m\u001b[0;34m(\u001b[0m\u001b[0mdiamond\u001b[0m\u001b[0;34m[\u001b[0m\u001b[0;34m'rank'\u001b[0m\u001b[0;34m]\u001b[0m\u001b[0;34m)\u001b[0m \u001b[0;34m/\u001b[0m \u001b[0;36m2\u001b[0m\u001b[0;34m\u001b[0m\u001b[0;34m\u001b[0m\u001b[0m\n\u001b[1;32m     43\u001b[0m \u001b[0;34m\u001b[0m\u001b[0m\n",
            "\u001b[0;31mValueError\u001b[0m: invalid literal for int() with base 10: 'J'"
          ]
        }
      ]
    }
  ]
}